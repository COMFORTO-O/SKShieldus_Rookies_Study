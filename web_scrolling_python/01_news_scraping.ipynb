{
 "cells": [
  {
   "cell_type": "code",
   "execution_count": 5,
   "id": "656e7dae",
   "metadata": {},
   "outputs": [
    {
     "name": "stdout",
     "output_type": "stream",
     "text": [
      "제목: “경영 노하우 공유하는 특별한 경험”…매일경제-성남상의, 제7기 최고경영자과정 입학식\n",
      "링크: https://v.daum.net/v/20250408210600644\n",
      "제목: 가성비로 무장한 단체, 다시 제주로 간다” 수학여행부터 대만 인센티브까지.. ‘단체관광’이 살리는 제주\n",
      "링크: https://v.daum.net/v/20250408205853462\n",
      "제목: 부동산 경기 활성화와 가계 부채 억제 사이, 새 정부 선택은?[정준호의 부동산과 사회경제]\n",
      "링크: https://v.daum.net/v/20250408204335126\n",
      "제목: ‘관세 직격탄’ 애플 주가 19% ‘뚝’… 갈수록 커지는 ‘T공포’ [관세전쟁 후폭풍]\n",
      "링크: https://v.daum.net/v/20250408184905360\n",
      "제목: 미·중 치킨게임…원화값 1473원대 추락, 글로벌 금융위기 후 최저\n",
      "링크: https://v.daum.net/v/20250408183514025\n",
      "제목: 美·中 관세 폭탄 돌리기…‘새우등’ 한국 경제 불안감 더 커졌다\n",
      "링크: https://v.daum.net/v/20250408175343664\n",
      "제목: 나랏빚 1175조 '역대 최대'…추경 재원 바닥\n",
      "링크: https://v.daum.net/v/20250408175111585\n",
      "제목: 메디젠휴먼케어, \"23andMe 파산..한국 유전체 산업의 위기 아닌 기회\"\n",
      "링크: https://v.daum.net/v/20250408174344325\n",
      "제목: 칩 확보서 데이터센터까지···전 산업에 'AI 고속도로' 깔아야\n",
      "링크: https://v.daum.net/v/20250408173713085\n"
     ]
    }
   ],
   "source": [
    "import requests\n",
    "from bs4 import BeautifulSoup\n",
    "\n",
    "url = 'https://news.daum.net/economy'\n",
    "res = requests.get(url)\n",
    "res.encoding = 'utf-8'\n",
    "soup = BeautifulSoup(res.text, 'html.parser')\n",
    "\n",
    "for li_tag in soup.select('ul.list_newsheadline2 li'):\n",
    "    a_tag = li_tag.find('a')\n",
    "    link = a_tag['href']\n",
    "    strong_tag = li_tag.select_one('div.cont_thumb strong.tit_txt')\n",
    "    title = strong_tag.text\n",
    "    print(f'제목: {title}')\n",
    "    print(f'링크: {link}')\n"
   ]
  },
  {
   "cell_type": "code",
   "execution_count": null,
   "id": "352e1087",
   "metadata": {},
   "outputs": [],
   "source": []
  },
  {
   "cell_type": "code",
   "execution_count": null,
   "id": "a666698a",
   "metadata": {},
   "outputs": [],
   "source": []
  }
 ],
 "metadata": {
  "kernelspec": {
   "display_name": "base",
   "language": "python",
   "name": "python3"
  },
  "language_info": {
   "codemirror_mode": {
    "name": "ipython",
    "version": 3
   },
   "file_extension": ".py",
   "mimetype": "text/x-python",
   "name": "python",
   "nbconvert_exporter": "python",
   "pygments_lexer": "ipython3",
   "version": "3.12.7"
  }
 },
 "nbformat": 4,
 "nbformat_minor": 5
}
