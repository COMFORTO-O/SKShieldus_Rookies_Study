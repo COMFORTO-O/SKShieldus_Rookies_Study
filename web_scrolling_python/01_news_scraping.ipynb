{
 "cells": [
  {
   "cell_type": "code",
   "execution_count": null,
   "id": "656e7dae",
   "metadata": {},
   "outputs": [],
   "source": [
    "import requests\n",
    "from bs4 import BeautifulSoup\n",
    "\n",
    "url = 'https://news.daum.net/economy'\n",
    "res = requests.get(url)\n",
    "soup = BeautifulSoup(res.text, 'html.parser')\n",
    "\n",
    "# 뉴스 목록 순회\n",
    "for li_tag in soup.select('ul.list_newsmajor li'):\n",
    "    a_tag = li_tag.select_one('a.link_txt')\n",
    "    if a_tag:\n",
    "        link = a_tag['href']\n",
    "        title = a_tag.text.strip()\n",
    "        print(f'제목: {title}')\n",
    "        print(f'링크: {link}')\n",
    "        print('-' * 50)\n"
   ]
  }
 ],
 "metadata": {
  "language_info": {
   "name": "python"
  }
 },
 "nbformat": 4,
 "nbformat_minor": 5
}
