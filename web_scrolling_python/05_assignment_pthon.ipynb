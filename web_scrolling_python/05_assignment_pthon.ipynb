{
 "cells": [
  {
   "cell_type": "code",
   "execution_count": null,
   "id": "fa020107",
   "metadata": {},
   "outputs": [],
   "source": [
    "# 파이썬 연습문제 과제"
   ]
  },
  {
   "cell_type": "code",
   "execution_count": null,
   "id": "ae528987",
   "metadata": {},
   "outputs": [],
   "source": []
  },
  {
   "cell_type": "code",
   "execution_count": null,
   "id": "b7c12c23",
   "metadata": {},
   "outputs": [],
   "source": [
    "# 변수와 숫자 이해하기 1번 문제"
   ]
  },
  {
   "cell_type": "code",
   "execution_count": null,
   "id": "f4046be0",
   "metadata": {},
   "outputs": [],
   "source": [
    "# 변수와 숫자 이해하기 2번 문제"
   ]
  },
  {
   "cell_type": "code",
   "execution_count": null,
   "id": "b6a2743b",
   "metadata": {},
   "outputs": [],
   "source": [
    "# 변수와 숫자 이해하기 3번 문제"
   ]
  },
  {
   "cell_type": "code",
   "execution_count": null,
   "id": "6cf7f934",
   "metadata": {},
   "outputs": [],
   "source": [
    "# 변수와 숫자 이해하기 4번 문제"
   ]
  },
  {
   "cell_type": "code",
   "execution_count": null,
   "id": "04c2d7d6",
   "metadata": {},
   "outputs": [],
   "source": [
    "# 문자 이해하기 1번 문제"
   ]
  },
  {
   "cell_type": "code",
   "execution_count": null,
   "id": "3ec759b6",
   "metadata": {},
   "outputs": [],
   "source": [
    "# 문자 이해하기 2번 문제"
   ]
  },
  {
   "cell_type": "code",
   "execution_count": null,
   "id": "741c01be",
   "metadata": {},
   "outputs": [],
   "source": [
    "# 문자 이해하기 4번 문제"
   ]
  },
  {
   "cell_type": "code",
   "execution_count": null,
   "id": "5d3c50b3",
   "metadata": {},
   "outputs": [],
   "source": [
    "# 자료구조 1번 문제"
   ]
  },
  {
   "cell_type": "code",
   "execution_count": null,
   "id": "d210266f",
   "metadata": {},
   "outputs": [],
   "source": [
    "# 자료구조 2번 문제"
   ]
  },
  {
   "cell_type": "code",
   "execution_count": null,
   "id": "c202b51d",
   "metadata": {},
   "outputs": [],
   "source": [
    "# 제어문 이해하기 1번 문제"
   ]
  },
  {
   "cell_type": "code",
   "execution_count": null,
   "id": "447f17af",
   "metadata": {},
   "outputs": [],
   "source": [
    "# 제어문 이해하기 2번 문제"
   ]
  },
  {
   "cell_type": "code",
   "execution_count": null,
   "id": "b5372ad3",
   "metadata": {},
   "outputs": [],
   "source": [
    "# 제어문 이해하기 3번 문제"
   ]
  },
  {
   "cell_type": "code",
   "execution_count": null,
   "id": "48758bbf",
   "metadata": {},
   "outputs": [],
   "source": [
    "# 제어문 이해하기 4번 문제"
   ]
  },
  {
   "cell_type": "code",
   "execution_count": null,
   "id": "7e5fea36",
   "metadata": {},
   "outputs": [],
   "source": [
    "# 함수 이해하기 1번 문제"
   ]
  },
  {
   "cell_type": "code",
   "execution_count": null,
   "id": "2f235560",
   "metadata": {},
   "outputs": [],
   "source": [
    "# 함수 이해하기 2번 문제"
   ]
  },
  {
   "cell_type": "code",
   "execution_count": null,
   "id": "f87feb98",
   "metadata": {},
   "outputs": [],
   "source": [
    "# 함수 이해하기 3번 문제"
   ]
  },
  {
   "cell_type": "code",
   "execution_count": null,
   "id": "65cfd260",
   "metadata": {},
   "outputs": [],
   "source": [
    "# Pythonic Code 1번 문제"
   ]
  },
  {
   "cell_type": "code",
   "execution_count": null,
   "id": "24206e0c",
   "metadata": {},
   "outputs": [],
   "source": [
    "# Pythonic Code 2번 문제"
   ]
  },
  {
   "cell_type": "code",
   "execution_count": null,
   "id": "f009bf61",
   "metadata": {},
   "outputs": [],
   "source": [
    "# Pythonic Code 3번 문제"
   ]
  },
  {
   "cell_type": "code",
   "execution_count": null,
   "id": "f2c5cb13",
   "metadata": {},
   "outputs": [],
   "source": [
    "# Pythonic Code 4번 문제"
   ]
  },
  {
   "cell_type": "code",
   "execution_count": null,
   "id": "44d8d8c1",
   "metadata": {},
   "outputs": [],
   "source": [
    "# Pythonic Code 5번 문제"
   ]
  },
  {
   "cell_type": "code",
   "execution_count": null,
   "id": "cb8899e2",
   "metadata": {},
   "outputs": [],
   "source": [
    "# Pythonic Code 6번 문제"
   ]
  },
  {
   "cell_type": "code",
   "execution_count": null,
   "id": "cab349d5",
   "metadata": {},
   "outputs": [],
   "source": [
    "# Pythonic Code 7번 문제"
   ]
  }
 ],
 "metadata": {
  "language_info": {
   "name": "python"
  }
 },
 "nbformat": 4,
 "nbformat_minor": 5
}
